{
 "cells": [
  {
   "cell_type": "code",
   "execution_count": 26,
   "metadata": {},
   "outputs": [
    {
     "name": "stdout",
     "output_type": "stream",
     "text": [
      "answer of this question  0.0\n"
     ]
    }
   ],
   "source": [
    "%matplotlib inline\n",
    "import numpy as np\n",
    "import pandas as pd\n",
    "import seaborn as sns\n",
    "import matplotlib.pyplot as plt\n",
    "from scipy.optimize import fsolve\n",
    "\n",
    "\n",
    "def f(x):\n",
    "    return x**3 -5*x**2 - 2*x +10\n",
    "\n",
    "def bisection (a,b,tol):\n",
    "    xl = a\n",
    "    xr = b\n",
    "    while (np.abs(xl-xr)>= tol):\n",
    "        c = (xl+xr)/2.0\n",
    "        prod = f(xl)*f(c)\n",
    "        if prod > tol :\n",
    "            xl = c\n",
    "        else:\n",
    "             if prod < tol:\n",
    "                    xr=c\n",
    "        \n",
    "        return c\n",
    "                    \n",
    "answer = bisection (-2,2,1e-10)\n",
    "print(\"answer of this question \",answer)"
   ]
  },
  {
   "cell_type": "code",
   "execution_count": 3,
   "metadata": {},
   "outputs": [
    {
     "name": "stdout",
     "output_type": "stream",
     "text": [
      "answer of this question  0.0\n"
     ]
    }
   ],
   "source": [
    "def f(x):\n",
    "    return x**3 +1\n",
    "\n",
    "def bisection (a,b,tol):\n",
    "    xl = a\n",
    "    xr = b\n",
    "    while (np.abs(xl-xr)>= tol):\n",
    "        c = (xl+xr)/2.0\n",
    "        prod = f(xl)*f(c)\n",
    "        if prod > tol :\n",
    "            xl = c\n",
    "        else:\n",
    "             if prod < tol:\n",
    "                    xr=c\n",
    "        \n",
    "        return c\n",
    "                    \n",
    "answer = bisection (-5,5,1e-10)\n",
    "print(\"answer of this question \",answer)"
   ]
  },
  {
   "cell_type": "code",
   "execution_count": 28,
   "metadata": {},
   "outputs": [],
   "source": [
    "######NRNRNRNRNRNRNNRNRRNNR###"
   ]
  },
  {
   "cell_type": "code",
   "execution_count": 27,
   "metadata": {},
   "outputs": [
    {
     "name": "stdout",
     "output_type": "stream",
     "text": [
      "the root  is f1.5000009819961646t 10 iterations\n"
     ]
    }
   ],
   "source": [
    "x=20\n",
    "for i in range(100):\n",
    "    xnr_new = x - (2*x**3 - 9.5*x+7.5)/(6*x**2-9.5)\n",
    "    if abs(xnr_new - x)< 0.001 : break\n",
    "    x = xnr_new\n",
    "    \n",
    "print(\"the root  is f% at %d iterations\"%(xnr_new,i))\n",
    "        \n",
    "        "
   ]
  },
  {
   "cell_type": "code",
   "execution_count": 35,
   "metadata": {},
   "outputs": [
    {
     "name": "stdout",
     "output_type": "stream",
     "text": [
      "the root  is 1.500000 at 8 iterations\n"
     ]
    }
   ],
   "source": [
    "x=5\n",
    "for i in range(100):\n",
    "    xnr_new = x - (2*x**3 - 9.5*x+7.5)/(6*x**2-9.5)\n",
    "    if abs(xnr_new - x)< 0.0000001 : break\n",
    "    x = xnr_new\n",
    "    \n",
    "print(\"the root  is %.6f at %d iterations\"%(xnr_new,i))"
   ]
  },
  {
   "cell_type": "code",
   "execution_count": 31,
   "metadata": {},
   "outputs": [
    {
     "name": "stdout",
     "output_type": "stream",
     "text": [
      "the root  is 1.500001 at 10 iterations\n"
     ]
    }
   ],
   "source": [
    "def newton_rapsonmtd(x):\n",
    " for i in range(100):\n",
    "    xnr_new = x - (2*x**3 - 9.5*x+7.5)/(6*x**2-9.5)\n",
    "    if abs(xnr_new - x)< 0.0000001 : break\n",
    "    x = xnr_new\n",
    "    \n",
    "print(\"the root  is %.6f at %d iterations\"%(xnr_new,i))"
   ]
  },
  {
   "cell_type": "code",
   "execution_count": 39,
   "metadata": {},
   "outputs": [
    {
     "name": "stdout",
     "output_type": "stream",
     "text": [
      "the root  is -2.500000 at 8 iterations\n"
     ]
    }
   ],
   "source": [
    "def newton_rapsonmtd(fn,dfn,x,tol,maxiter):\n",
    "  for i in range(maxiter):\n",
    "            xnr_new = x - fn(x) / dfn(x)\n",
    "            if abs(xnr_new - x)< tol : break\n",
    "            x = xnr_new\n",
    "            return xnr_new,i\n",
    "\n",
    "\n",
    "y= lambda x :2*x**3 - 9.5*x+7.5\n",
    "dy = lambda x:6*x**2-9.5\n",
    "\n",
    "newton_rapsonmtd(y,dy,5,0.00001,100)\n",
    "print(\"the root  is %.6f at %d iterations\"%(xnr_new,i))"
   ]
  },
  {
   "cell_type": "code",
   "execution_count": null,
   "metadata": {},
   "outputs": [],
   "source": [
    "####"
   ]
  },
  {
   "cell_type": "code",
   "execution_count": 40,
   "metadata": {},
   "outputs": [
    {
     "name": "stdout",
     "output_type": "stream",
     "text": [
      "the root  is -2.500000 at 8 iterations\n"
     ]
    }
   ],
   "source": [
    "x=-10\n",
    "for i in range(100):\n",
    "    xnr_new = x - (2*x**3 - 9.5*x+7.5)/(6*x**2-9.5)\n",
    "    if abs(xnr_new - x)< 0.0000001 : break\n",
    "    x = xnr_new\n",
    "    \n",
    "print(\"the root  is %.6f at %d iterations\"%(xnr_new,i))"
   ]
  },
  {
   "cell_type": "code",
   "execution_count": 36,
   "metadata": {},
   "outputs": [
    {
     "name": "stdout",
     "output_type": "stream",
     "text": [
      "the root  is -2.500 at 8 iterations\n"
     ]
    }
   ],
   "source": [
    "x=-10\n",
    "for i in range(100):\n",
    "    xnr_new = x - (2*x**3 - 9.5*x+7.5)/(6*x**2-9.5)\n",
    "    if abs(xnr_new - x)< 0.0000001 : break\n",
    "    x = xnr_new\n",
    "    \n",
    "print(\"the root  is %.3f at %d iterations\"%(xnr_new,i))"
   ]
  },
  {
   "cell_type": "code",
   "execution_count": 37,
   "metadata": {},
   "outputs": [
    {
     "name": "stdout",
     "output_type": "stream",
     "text": [
      "the root  is -2.500 at 8 iterations\n"
     ]
    }
   ],
   "source": [
    "x=-10\n",
    "for i in range(100):\n",
    "    xnr_new = x - (2*x**3 - 9.5*x+7.5)/(6*x**2-9.5)\n",
    "    if abs(xnr_new - x)< 0.0000001 : break\n",
    "    x = xnr_new\n",
    "    \n",
    "print(\"the root  is %.3f at %d iterations\"%(x,i))"
   ]
  },
  {
   "cell_type": "code",
   "execution_count": 40,
   "metadata": {},
   "outputs": [
    {
     "name": "stdout",
     "output_type": "stream",
     "text": [
      "the root of the problems is -2.500 at 008 iterations\n"
     ]
    }
   ],
   "source": [
    "def nrapson2 (y,x,tol,maxiter):\n",
    "  for i in range(maxiter):\n",
    "    xnew2= x - y[0](x)/y[1](x)\n",
    "    if abs(xnew2-x) < tol : break\n",
    "    xnew2 = x\n",
    "    \n",
    " \n",
    "    \n",
    "print(\"the root of the problems is %.3f at %.3d iterations\" %(x,i))\n",
    "    \n",
    "    \n",
    "y= [lambda x: 2*x**3 - 9.5*x+7.5 , lambda x: 6*x**2-9.5 ]\n",
    "\n",
    "\n",
    "\n",
    "nrapson2(y,20,0.00001,100)"
   ]
  },
  {
   "cell_type": "code",
   "execution_count": null,
   "metadata": {},
   "outputs": [],
   "source": [
    "######    ZEKARİYANIN KİTABINDAN NEWTON RAPSON ÇÖZÜMÜ FONKSİYONU OLUŞTURMA#####\n",
    "#SAYFA130#"
   ]
  },
  {
   "cell_type": "code",
   "execution_count": 50,
   "metadata": {},
   "outputs": [
    {
     "name": "stdout",
     "output_type": "stream",
     "text": [
      "problemin çözümü -2.500000 in 000008 iterasyonda\n"
     ]
    },
    {
     "ename": "TypeError",
     "evalue": "'int' object is not iterable",
     "output_type": "error",
     "traceback": [
      "\u001b[1;31m---------------------------------------------------------------------------\u001b[0m",
      "\u001b[1;31mTypeError\u001b[0m                                 Traceback (most recent call last)",
      "\u001b[1;32m<ipython-input-50-f83129cf16c0>\u001b[0m in \u001b[0;36m<module>\u001b[1;34m\u001b[0m\n\u001b[0;32m     11\u001b[0m \u001b[0mfuncx\u001b[0m \u001b[1;33m=\u001b[0m\u001b[1;32mlambda\u001b[0m \u001b[0mx\u001b[0m \u001b[1;33m:\u001b[0m \u001b[1;33m(\u001b[0m\u001b[1;33m-\u001b[0m\u001b[0mexp\u001b[0m\u001b[1;33m(\u001b[0m\u001b[0mx\u001b[0m\u001b[1;33m)\u001b[0m\u001b[1;33m**\u001b[0m\u001b[1;33m-\u001b[0m\u001b[0mx\u001b[0m\u001b[1;33m)\u001b[0m \u001b[1;33m-\u001b[0m \u001b[0mpi\u001b[0m\u001b[1;33m/\u001b[0m\u001b[1;36m4\u001b[0m\u001b[1;33m*\u001b[0m\u001b[1;33m(\u001b[0m\u001b[0mcos\u001b[0m\u001b[1;33m(\u001b[0m\u001b[0mpix\u001b[0m\u001b[1;33m*\u001b[0m\u001b[0mx\u001b[0m\u001b[1;33m/\u001b[0m\u001b[1;36m4\u001b[0m\u001b[1;33m)\u001b[0m\u001b[1;33m)\u001b[0m\u001b[1;33m\u001b[0m\u001b[1;33m\u001b[0m\u001b[0m\n\u001b[0;32m     12\u001b[0m \u001b[1;33m\u001b[0m\u001b[0m\n\u001b[1;32m---> 13\u001b[1;33m \u001b[0mnrapsonz\u001b[0m\u001b[1;33m(\u001b[0m\u001b[1;36m0\u001b[0m\u001b[1;33m,\u001b[0m\u001b[1;36m4\u001b[0m\u001b[1;33m,\u001b[0m\u001b[1;36m0.5\u001b[0m\u001b[1;33m*\u001b[0m\u001b[1;36m10\u001b[0m\u001b[1;33m**\u001b[0m\u001b[1;33m(\u001b[0m\u001b[1;33m-\u001b[0m\u001b[1;36m4\u001b[0m\u001b[1;33m)\u001b[0m\u001b[1;33m)\u001b[0m\u001b[1;33m\u001b[0m\u001b[1;33m\u001b[0m\u001b[0m\n\u001b[0m",
      "\u001b[1;32m<ipython-input-50-f83129cf16c0>\u001b[0m in \u001b[0;36mnrapsonz\u001b[1;34m(x, nmaxiter, tol)\u001b[0m\n\u001b[0;32m      1\u001b[0m \u001b[1;32mdef\u001b[0m \u001b[0mnrapsonz\u001b[0m\u001b[1;33m(\u001b[0m\u001b[0mx\u001b[0m\u001b[1;33m,\u001b[0m\u001b[0mnmaxiter\u001b[0m\u001b[1;33m,\u001b[0m\u001b[0mtol\u001b[0m\u001b[1;33m)\u001b[0m\u001b[1;33m:\u001b[0m\u001b[1;33m\u001b[0m\u001b[1;33m\u001b[0m\u001b[0m\n\u001b[1;32m----> 2\u001b[1;33m     \u001b[1;32mfor\u001b[0m \u001b[0mi\u001b[0m \u001b[1;32min\u001b[0m \u001b[1;33m(\u001b[0m\u001b[0mnmaxiter\u001b[0m\u001b[1;33m)\u001b[0m\u001b[1;33m:\u001b[0m\u001b[1;33m\u001b[0m\u001b[1;33m\u001b[0m\u001b[0m\n\u001b[0m\u001b[0;32m      3\u001b[0m         \u001b[0mxnew\u001b[0m \u001b[1;33m=\u001b[0m \u001b[0mx\u001b[0m \u001b[1;33m-\u001b[0m \u001b[0mfunc\u001b[0m\u001b[1;33m(\u001b[0m\u001b[0mx\u001b[0m\u001b[1;33m)\u001b[0m\u001b[1;33m/\u001b[0m\u001b[0mfuncx\u001b[0m\u001b[1;33m(\u001b[0m\u001b[0mx\u001b[0m\u001b[1;33m)\u001b[0m\u001b[1;33m\u001b[0m\u001b[1;33m\u001b[0m\u001b[0m\n\u001b[0;32m      4\u001b[0m         \u001b[1;32mif\u001b[0m \u001b[0mabs\u001b[0m\u001b[1;33m(\u001b[0m\u001b[0mxnew\u001b[0m\u001b[1;33m-\u001b[0m\u001b[0mx\u001b[0m\u001b[1;33m)\u001b[0m \u001b[1;33m<\u001b[0m  \u001b[0mtol\u001b[0m \u001b[1;33m:\u001b[0m\u001b[1;32mbreak\u001b[0m\u001b[1;33m\u001b[0m\u001b[1;33m\u001b[0m\u001b[0m\n\u001b[0;32m      5\u001b[0m         \u001b[0mxnew\u001b[0m \u001b[1;33m=\u001b[0m \u001b[0mx\u001b[0m\u001b[1;33m\u001b[0m\u001b[1;33m\u001b[0m\u001b[0m\n",
      "\u001b[1;31mTypeError\u001b[0m: 'int' object is not iterable"
     ]
    }
   ],
   "source": [
    "def nrapsonz(x,nmaxiter,tol):\n",
    "    for i in (nmaxiter):\n",
    "        xnew = x - func(x)/funcx(x) \n",
    "        if abs(xnew-x) <  tol :break\n",
    "        xnew = x\n",
    "\n",
    "        \n",
    "print(\"problemin çözümü %.6f in %.6d iterasyonda\"%(x,i))\n",
    "\n",
    "func = lambda x : (exp(x)**-x) - (sin(pix*x/4))\n",
    "funcx =lambda x : (-exp(x)**-x) - pi/4*(cos(pix*x/4))   \n",
    "\n",
    "nrapsonz(0,4,0.5*10**(-4))"
   ]
  },
  {
   "cell_type": "code",
   "execution_count": null,
   "metadata": {},
   "outputs": [],
   "source": []
  },
  {
   "cell_type": "code",
   "execution_count": null,
   "metadata": {},
   "outputs": [],
   "source": []
  },
  {
   "cell_type": "code",
   "execution_count": null,
   "metadata": {},
   "outputs": [],
   "source": []
  }
 ],
 "metadata": {
  "kernelspec": {
   "display_name": "Python 3",
   "language": "python",
   "name": "python3"
  },
  "language_info": {
   "codemirror_mode": {
    "name": "ipython",
    "version": 3
   },
   "file_extension": ".py",
   "mimetype": "text/x-python",
   "name": "python",
   "nbconvert_exporter": "python",
   "pygments_lexer": "ipython3",
   "version": "3.7.4"
  }
 },
 "nbformat": 4,
 "nbformat_minor": 2
}
