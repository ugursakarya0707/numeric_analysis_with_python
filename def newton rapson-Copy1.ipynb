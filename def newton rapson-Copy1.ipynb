{
 "cells": [
  {
   "cell_type": "code",
   "execution_count": 1,
   "metadata": {},
   "outputs": [
    {
     "name": "stdout",
     "output_type": "stream",
     "text": [
      "answer of this question  0.0\n"
     ]
    }
   ],
   "source": [
    "%matplotlib inline\n",
    "import numpy as np\n",
    "import pandas as pd\n",
    "import seaborn as sns\n",
    "import matplotlib.pyplot as plt\n",
    "from scipy.optimize import fsolve\n",
    "\n",
    "\n",
    "def f(x):\n",
    "    return x**3 -5*x**2 - 2*x +10\n",
    "\n",
    "def bisection (a,b,tol):\n",
    "    xl = a\n",
    "    xr = b\n",
    "    while (np.abs(xl-xr)>= tol):\n",
    "        c = (xl+xr)/2.0\n",
    "        prod = f(xl)*f(c)\n",
    "        if prod > tol :\n",
    "            xl = c\n",
    "        else:\n",
    "             if prod < tol:\n",
    "                    xr=c\n",
    "        \n",
    "        return c\n",
    "                    \n",
    "answer = bisection (-2,2,1e-10)\n",
    "print(\"answer of this question \",answer)"
   ]
  },
  {
   "cell_type": "code",
   "execution_count": 24,
   "metadata": {},
   "outputs": [
    {
     "name": "stdout",
     "output_type": "stream",
     "text": [
      "answer of this question  0.0\n"
     ]
    }
   ],
   "source": [
    "def f(x):\n",
    "    return x**3 +1\n",
    "\n",
    "def bisection (a,b,tol):\n",
    "    xl = a\n",
    "    xr = b\n",
    "    while (np.abs(xl-xr)>= tol):\n",
    "        c = (xl+xr)/2.0\n",
    "        prod = f(xl)*f(c)\n",
    "        if prod > tol :\n",
    "            xl = c\n",
    "        else:\n",
    "             if prod < tol:\n",
    "                    xr=c\n",
    "        \n",
    "        return c\n",
    "                    \n",
    "answer = bisection (-5,5,1e-10)\n",
    "print(\"answer of this question \",answer)"
   ]
  },
  {
   "cell_type": "code",
   "execution_count": 28,
   "metadata": {},
   "outputs": [],
   "source": [
    "######NRNRNRNRNRNRNNRNRRNNR###"
   ]
  },
  {
   "cell_type": "code",
   "execution_count": 31,
   "metadata": {},
   "outputs": [
    {
     "name": "stdout",
     "output_type": "stream",
     "text": [
      "the root  is f1.5000009819961646t 10 iterations\n"
     ]
    }
   ],
   "source": [
    "x=20\n",
    "for i in range(100):\n",
    "    xnr_new = x - (2*x**3 - 9.5*x+7.5)/(6*x**2-9.5)\n",
    "    if abs(xnr_new - x)< 0.001 : break\n",
    "    x = xnr_new\n",
    "    \n",
    "print(\"the root  is f% at %d iterations\"%(xnr_new,i))\n",
    "        \n",
    "        "
   ]
  },
  {
   "cell_type": "code",
   "execution_count": 35,
   "metadata": {},
   "outputs": [
    {
     "name": "stdout",
     "output_type": "stream",
     "text": [
      "the root  is 1.500000 at 8 iterations\n"
     ]
    }
   ],
   "source": [
    "x=5\n",
    "for i in range(100):\n",
    "    xnr_new = x - (2*x**3 - 9.5*x+7.5)/(6*x**2-9.5)\n",
    "    if abs(xnr_new - x)< 0.0000001 : break\n",
    "    x = xnr_new\n",
    "    \n",
    "print(\"the root  is %.6f at %d iterations\"%(xnr_new,i))"
   ]
  },
  {
   "cell_type": "code",
   "execution_count": 38,
   "metadata": {},
   "outputs": [
    {
     "ename": "IndentationError",
     "evalue": "expected an indented block (<ipython-input-38-cb94b420c86a>, line 3)",
     "output_type": "error",
     "traceback": [
      "\u001b[1;36m  File \u001b[1;32m\"<ipython-input-38-cb94b420c86a>\"\u001b[1;36m, line \u001b[1;32m3\u001b[0m\n\u001b[1;33m    for i in range(100):\u001b[0m\n\u001b[1;37m      ^\u001b[0m\n\u001b[1;31mIndentationError\u001b[0m\u001b[1;31m:\u001b[0m expected an indented block\n"
     ]
    }
   ],
   "source": [
    "def newton_rapsonmtd(x):\n",
    "for i in range(100):\n",
    "    xnr_new = x - (2*x**3 - 9.5*x+7.5)/(6*x**2-9.5)\n",
    "    if abs(xnr_new - x)< 0.0000001 : break\n",
    "    x = xnr_new\n",
    "    \n",
    "print(\"the root  is %.6f at %d iterations\"%(xnr_new,i))"
   ]
  },
  {
   "cell_type": "code",
   "execution_count": 44,
   "metadata": {},
   "outputs": [
    {
     "ename": "IndentationError",
     "evalue": "expected an indented block (<ipython-input-44-56d5a5f32df1>, line 3)",
     "output_type": "error",
     "traceback": [
      "\u001b[1;36m  File \u001b[1;32m\"<ipython-input-44-56d5a5f32df1>\"\u001b[1;36m, line \u001b[1;32m3\u001b[0m\n\u001b[1;33m    xnr_new = x - fn(x) / dfn(x)\u001b[0m\n\u001b[1;37m          ^\u001b[0m\n\u001b[1;31mIndentationError\u001b[0m\u001b[1;31m:\u001b[0m expected an indented block\n"
     ]
    }
   ],
   "source": [
    "def newton_rapsonmtd(fn,dfn,x,tol,maxiter):\n",
    "            for i in range(maxiter):\n",
    "            xnr_new = x - fn(x) / dfn(x)\n",
    "            if abs(xnr_new - x)< tol : break\n",
    "            x = xnr_new\n",
    "            return xnr_new,i\n",
    "\n",
    "\n",
    "y= lambda x :2*x**3 - 9.5*x+7.5\n",
    "dy = lambda x:6*x**2-9.5\n",
    "\n",
    "newton_rapsonmtd(y,dy,5,0.00001,100)\n",
    "print(\"the root  is %.6f at %d iterations\"%(xnr_new,n))"
   ]
  },
  {
   "cell_type": "code",
   "execution_count": null,
   "metadata": {},
   "outputs": [],
   "source": [
    "####"
   ]
  },
  {
   "cell_type": "code",
   "execution_count": 40,
   "metadata": {},
   "outputs": [
    {
     "name": "stdout",
     "output_type": "stream",
     "text": [
      "the root  is -2.500000 at 8 iterations\n"
     ]
    }
   ],
   "source": [
    "x=-10\n",
    "for i in range(100):\n",
    "    xnr_new = x - (2*x**3 - 9.5*x+7.5)/(6*x**2-9.5)\n",
    "    if abs(xnr_new - x)< 0.0000001 : break\n",
    "    x = xnr_new\n",
    "    \n",
    "print(\"the root  is %.6f at %d iterations\"%(xnr_new,i))"
   ]
  },
  {
   "cell_type": "code",
   "execution_count": 3,
   "metadata": {},
   "outputs": [
    {
     "name": "stdout",
     "output_type": "stream",
     "text": [
      "the root  is -2.500 at 8 iterations\n"
     ]
    }
   ],
   "source": [
    "x=-10\n",
    "for i in range(100):\n",
    "    xnr_new = x - (2*x**3 - 9.5*x+7.5)/(6*x**2-9.5)\n",
    "    if abs(xnr_new - x)< 0.0000001 : break\n",
    "    x = xnr_new\n",
    "    \n",
    "print(\"the root  is %.3f at %d iterations\"%(xnr_new,i))"
   ]
  },
  {
   "cell_type": "code",
   "execution_count": 32,
   "metadata": {},
   "outputs": [
    {
     "name": "stdout",
     "output_type": "stream",
     "text": [
      "the root of the problems is -2.500 at 008 iterations\n"
     ]
    }
   ],
   "source": [
    "def nrapson2 (y,dy,x,tol,maxiter):\n",
    "  for i in range(maxiter):\n",
    "    xnew2= x - y(x)/dy(x)\n",
    "    if abs(xnew2-x) < tol : break\n",
    "    x= xnew2\n",
    "    \n",
    " \n",
    "    \n",
    "print(\"the root of the problems is %.3f at %.3d iterations\" %(xnew2,i))\n",
    "    \n",
    "    \n",
    "y= lambda x: 2*x**3 - 9.5*x+7.5\n",
    "dy=lambda x: 6*x**2-9.5\n",
    "\n",
    "\n",
    "nrapson2(y,dy,20,0.00001,100)"
   ]
  },
  {
   "cell_type": "code",
   "execution_count": 34,
   "metadata": {},
   "outputs": [
    {
     "name": "stdout",
     "output_type": "stream",
     "text": [
      "the root of the problems is -2.500 at 008 iterations\n"
     ]
    }
   ],
   "source": [
    "def nrapson2 (y,x,tol,maxiter):\n",
    "  for i in range(maxiter):\n",
    "    xnew2= x - y[0](x)/y[1](x)\n",
    "    if abs(xnew2-x) < tol : break\n",
    "    x= xnew2\n",
    "    \n",
    " \n",
    "    \n",
    "print(\"the root of the problems is %.3f at %.3d iterations\" %(xnew2,i))\n",
    "    \n",
    "    \n",
    "y= [lambda x: 2*x**3 - 9.5*x+7.5 , lambda x: 6*x**2-9.5 ]\n",
    "\n",
    "\n",
    "\n",
    "nrapson2(y,20,0.00001,100)"
   ]
  },
  {
   "cell_type": "code",
   "execution_count": null,
   "metadata": {},
   "outputs": [],
   "source": [
    "######    ZEKARİYANIN KİTABINDAN NEWTON RAPSON ÇÖZÜMÜ FONKSİYONU OLUŞTURMA#####\n",
    "#SAYFA130#"
   ]
  },
  {
   "cell_type": "code",
   "execution_count": 24,
   "metadata": {},
   "outputs": [
    {
     "ename": "NameError",
     "evalue": "name 'xnew' is not defined",
     "output_type": "error",
     "traceback": [
      "\u001b[1;31m---------------------------------------------------------------------------\u001b[0m",
      "\u001b[1;31mNameError\u001b[0m                                 Traceback (most recent call last)",
      "\u001b[1;32m<ipython-input-24-3d8202127d94>\u001b[0m in \u001b[0;36m<module>\u001b[1;34m\u001b[0m\n\u001b[0;32m      7\u001b[0m \u001b[1;33m\u001b[0m\u001b[0m\n\u001b[0;32m      8\u001b[0m \u001b[1;33m\u001b[0m\u001b[0m\n\u001b[1;32m----> 9\u001b[1;33m \u001b[0mprint\u001b[0m\u001b[1;33m(\u001b[0m\u001b[1;34m\"problemin çözümü %.3f in %.3d iterasyonda\"\u001b[0m\u001b[1;33m%\u001b[0m\u001b[1;33m(\u001b[0m\u001b[0mxnew\u001b[0m\u001b[1;33m,\u001b[0m\u001b[0mi\u001b[0m\u001b[1;33m)\u001b[0m\u001b[1;33m)\u001b[0m\u001b[1;33m\u001b[0m\u001b[1;33m\u001b[0m\u001b[0m\n\u001b[0m\u001b[0;32m     10\u001b[0m \u001b[1;33m\u001b[0m\u001b[0m\n\u001b[0;32m     11\u001b[0m \u001b[0mfunc\u001b[0m \u001b[1;33m=\u001b[0m \u001b[1;32mlambda\u001b[0m \u001b[0mx\u001b[0m \u001b[1;33m:\u001b[0m \u001b[1;33m(\u001b[0m\u001b[0mexp\u001b[0m\u001b[1;33m(\u001b[0m\u001b[0mx\u001b[0m\u001b[1;33m)\u001b[0m\u001b[1;33m**\u001b[0m\u001b[1;33m-\u001b[0m\u001b[0mx\u001b[0m\u001b[1;33m)\u001b[0m \u001b[1;33m-\u001b[0m \u001b[1;33m(\u001b[0m\u001b[0msin\u001b[0m\u001b[1;33m(\u001b[0m\u001b[0mpix\u001b[0m\u001b[1;33m*\u001b[0m\u001b[0mx\u001b[0m\u001b[1;33m/\u001b[0m\u001b[1;36m4\u001b[0m\u001b[1;33m)\u001b[0m\u001b[1;33m)\u001b[0m\u001b[1;33m\u001b[0m\u001b[1;33m\u001b[0m\u001b[0m\n",
      "\u001b[1;31mNameError\u001b[0m: name 'xnew' is not defined"
     ]
    }
   ],
   "source": [
    "def nrapsonz(func,funcx,x,nmaxiter,tol):\n",
    "    for i in (nmaxiter):\n",
    "        xnew = x - func(x)/funcx(x) \n",
    "        if abs(xnew-x) <  tol :break\n",
    "        x=xnew\n",
    "\n",
    "        \n",
    "print(\"problemin çözümü %.3f in %.3d iterasyonda\"%(xnew,i))\n",
    "\n",
    "func = lambda x : (exp(x)**-x) - (sin(pix*x/4))\n",
    "funcx =lambda x : (-exp(x)**-x) - pi/4*(cos(pix*x/4))   \n",
    "\n",
    "nrapsonz(func,funcx,0,4,0.5*10**(-4))"
   ]
  },
  {
   "cell_type": "code",
   "execution_count": null,
   "metadata": {},
   "outputs": [],
   "source": []
  },
  {
   "cell_type": "code",
   "execution_count": null,
   "metadata": {},
   "outputs": [],
   "source": []
  },
  {
   "cell_type": "code",
   "execution_count": null,
   "metadata": {},
   "outputs": [],
   "source": []
  }
 ],
 "metadata": {
  "kernelspec": {
   "display_name": "Python 3",
   "language": "python",
   "name": "python3"
  },
  "language_info": {
   "codemirror_mode": {
    "name": "ipython",
    "version": 3
   },
   "file_extension": ".py",
   "mimetype": "text/x-python",
   "name": "python",
   "nbconvert_exporter": "python",
   "pygments_lexer": "ipython3",
   "version": "3.7.4"
  }
 },
 "nbformat": 4,
 "nbformat_minor": 2
}
