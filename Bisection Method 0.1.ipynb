{
 "cells": [
  {
   "cell_type": "code",
   "execution_count": 12,
   "metadata": {},
   "outputs": [],
   "source": [
    "import numpy as np\n",
    "import math"
   ]
  },
  {
   "cell_type": "code",
   "execution_count": null,
   "metadata": {},
   "outputs": [],
   "source": []
  },
  {
   "cell_type": "code",
   "execution_count": 22,
   "metadata": {},
   "outputs": [
    {
     "name": "stdout",
     "output_type": "stream",
     "text": [
      "Answer of this question :  1.0\n"
     ]
    }
   ],
   "source": [
    "def f(x):\n",
    "    return x**4 -6*x**2 - 2*x +10\n",
    "\n",
    "def bisection (a,b,tol):\n",
    "    xleft  = a\n",
    "    xright = b\n",
    "    while (np.abs(xleft-xright)>= tol):\n",
    "        c = (xleft+xright)/2.0\n",
    "        prod = f(xleft)*f(c)\n",
    "        if prod > tol :\n",
    "            xleft = c\n",
    "        else:\n",
    "             if prod < tol:\n",
    "                    xright=c\n",
    "        \n",
    "        return c\n",
    "                    \n",
    "answer = bisection (-5,7,1e-10)\n",
    "print(\"Answer of this question : \",answer)"
   ]
  },
  {
   "cell_type": "code",
   "execution_count": null,
   "metadata": {},
   "outputs": [],
   "source": [
    "## Sayfa 125 Örnek 4.1 ##"
   ]
  },
  {
   "cell_type": "code",
   "execution_count": 21,
   "metadata": {},
   "outputs": [
    {
     "ename": "SyntaxError",
     "evalue": "invalid syntax (<ipython-input-21-a57033d8ab8f>, line 9)",
     "output_type": "error",
     "traceback": [
      "\u001b[1;36m  File \u001b[1;32m\"<ipython-input-21-a57033d8ab8f>\"\u001b[1;36m, line \u001b[1;32m9\u001b[0m\n\u001b[1;33m    elif :\u001b[0m\n\u001b[1;37m         ^\u001b[0m\n\u001b[1;31mSyntaxError\u001b[0m\u001b[1;31m:\u001b[0m invalid syntax\n"
     ]
    }
   ],
   "source": [
    "def bisection (a,b,tol):\n",
    "    xleft  = a\n",
    "    xright = b\n",
    "    while (np.abs(xleft-xright)>= tol):\n",
    "        c = (xleft+xright)/2.0\n",
    "        prod = f(xleft)*f(c)\n",
    "        if prod > tol :\n",
    "            xleft = c\n",
    "        else:\n",
    "             if prod < tol:\n",
    "                    xright=c\n",
    "        \n",
    "        return c\n",
    "                    \n",
    "answer = bisection(0,1,0.5*10**(-4))\n",
    "print(\"Answer of this question : \",answer)\n",
    "\n"
   ]
  },
  {
   "cell_type": "code",
   "execution_count": null,
   "metadata": {},
   "outputs": [],
   "source": []
  }
 ],
 "metadata": {
  "kernelspec": {
   "display_name": "Python 3",
   "language": "python",
   "name": "python3"
  },
  "language_info": {
   "codemirror_mode": {
    "name": "ipython",
    "version": 3
   },
   "file_extension": ".py",
   "mimetype": "text/x-python",
   "name": "python",
   "nbconvert_exporter": "python",
   "pygments_lexer": "ipython3",
   "version": "3.7.4"
  }
 },
 "nbformat": 4,
 "nbformat_minor": 2
}
